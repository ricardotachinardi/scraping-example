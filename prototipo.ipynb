{
 "cells": [
  {
   "cell_type": "markdown",
   "metadata": {},
   "source": [
    "# A ideia desse notebook é prototipar uma solução para extrairmos a tabela requisitada"
   ]
  },
  {
   "cell_type": "code",
   "execution_count": 2,
   "metadata": {},
   "outputs": [],
   "source": [
    "import requests\r\n",
    "import json\r\n",
    "import pandas as pd"
   ]
  },
  {
   "cell_type": "markdown",
   "metadata": {},
   "source": [
    "## Pegando a lista de ids e parte dos dados"
   ]
  },
  {
   "cell_type": "code",
   "execution_count": 3,
   "metadata": {},
   "outputs": [],
   "source": [
    "# request inicial\r\n",
    "headers = {\r\n",
    "\t\"Accept\": \"application/json\",\r\n",
    "\t\"Accept-Encoding\": \"gzip, deflate\",\r\n",
    "}\r\n",
    "payload = {\r\n",
    "\"ano\": \"2021\",\r\n",
    "\"comunicado\": \"1\",\r\n",
    "\"situacao\": \"1\",\r\n",
    "\"situacaoAndamento\": True,\r\n",
    "\"situacaoEncerrada\": False,\r\n",
    "\"tipoComunicado\": \"INICIAL\",\r\n",
    "\"valorMobiliarioId\": \"15\",\r\n",
    "}\r\n",
    "url = \"http://web.cvm.gov.br/app/esforcosrestritos/consultarOfertaController/consultarValorMobiliario\"\r\n",
    "response = requests.post(url=url, \r\n",
    "                     json=payload, \r\n",
    "                     headers=headers)\r\n",
    "dict_response = json.loads(response.content)"
   ]
  },
  {
   "cell_type": "code",
   "execution_count": 4,
   "metadata": {},
   "outputs": [
    {
     "data": {
      "text/html": [
       "<div>\n",
       "<style scoped>\n",
       "    .dataframe tbody tr th:only-of-type {\n",
       "        vertical-align: middle;\n",
       "    }\n",
       "\n",
       "    .dataframe tbody tr th {\n",
       "        vertical-align: top;\n",
       "    }\n",
       "\n",
       "    .dataframe thead th {\n",
       "        text-align: right;\n",
       "    }\n",
       "</style>\n",
       "<table border=\"1\" class=\"dataframe\">\n",
       "  <thead>\n",
       "    <tr style=\"text-align: right;\">\n",
       "      <th></th>\n",
       "      <th>ofertasComunicadosTO</th>\n",
       "      <th>agrupador</th>\n",
       "      <th>totalVolume</th>\n",
       "    </tr>\n",
       "  </thead>\n",
       "  <tbody>\n",
       "    <tr>\n",
       "      <th>0</th>\n",
       "      <td>[{'ofertaTO': {'id': 17760, 'nomeResponsavel':...</td>\n",
       "      <td>Janeiro</td>\n",
       "      <td>2.999.000,00</td>\n",
       "    </tr>\n",
       "    <tr>\n",
       "      <th>1</th>\n",
       "      <td>[{'ofertaTO': {'id': 18227, 'nomeResponsavel':...</td>\n",
       "      <td>Fevereiro</td>\n",
       "      <td>0,00</td>\n",
       "    </tr>\n",
       "    <tr>\n",
       "      <th>2</th>\n",
       "      <td>[{'ofertaTO': {'id': 19550, 'nomeResponsavel':...</td>\n",
       "      <td>Março</td>\n",
       "      <td>0,00</td>\n",
       "    </tr>\n",
       "    <tr>\n",
       "      <th>3</th>\n",
       "      <td>[{'ofertaTO': {'id': 20476, 'nomeResponsavel':...</td>\n",
       "      <td>Abril</td>\n",
       "      <td>0,00</td>\n",
       "    </tr>\n",
       "    <tr>\n",
       "      <th>4</th>\n",
       "      <td>[{'ofertaTO': {'id': 20840, 'nomeResponsavel':...</td>\n",
       "      <td>Maio</td>\n",
       "      <td>0,00</td>\n",
       "    </tr>\n",
       "    <tr>\n",
       "      <th>5</th>\n",
       "      <td>[{'ofertaTO': {'id': 21309, 'nomeResponsavel':...</td>\n",
       "      <td>Junho</td>\n",
       "      <td>0,00</td>\n",
       "    </tr>\n",
       "    <tr>\n",
       "      <th>6</th>\n",
       "      <td>[{'ofertaTO': {'id': 21853, 'nomeResponsavel':...</td>\n",
       "      <td>Julho</td>\n",
       "      <td>0,00</td>\n",
       "    </tr>\n",
       "  </tbody>\n",
       "</table>\n",
       "</div>"
      ],
      "text/plain": [
       "                                ofertasComunicadosTO  agrupador   totalVolume\n",
       "0  [{'ofertaTO': {'id': 17760, 'nomeResponsavel':...    Janeiro  2.999.000,00\n",
       "1  [{'ofertaTO': {'id': 18227, 'nomeResponsavel':...  Fevereiro          0,00\n",
       "2  [{'ofertaTO': {'id': 19550, 'nomeResponsavel':...      Março          0,00\n",
       "3  [{'ofertaTO': {'id': 20476, 'nomeResponsavel':...      Abril          0,00\n",
       "4  [{'ofertaTO': {'id': 20840, 'nomeResponsavel':...       Maio          0,00\n",
       "5  [{'ofertaTO': {'id': 21309, 'nomeResponsavel':...      Junho          0,00\n",
       "6  [{'ofertaTO': {'id': 21853, 'nomeResponsavel':...      Julho          0,00"
      ]
     },
     "execution_count": 4,
     "metadata": {},
     "output_type": "execute_result"
    }
   ],
   "source": [
    "# parsing da request pra um df\r\n",
    "df_inicial = pd.DataFrame.from_dict(dict_response)\r\n",
    "df_inicial"
   ]
  },
  {
   "cell_type": "code",
   "execution_count": 5,
   "metadata": {},
   "outputs": [
    {
     "data": {
      "text/html": [
       "<div>\n",
       "<style scoped>\n",
       "    .dataframe tbody tr th:only-of-type {\n",
       "        vertical-align: middle;\n",
       "    }\n",
       "\n",
       "    .dataframe tbody tr th {\n",
       "        vertical-align: top;\n",
       "    }\n",
       "\n",
       "    .dataframe thead th {\n",
       "        text-align: right;\n",
       "    }\n",
       "</style>\n",
       "<table border=\"1\" class=\"dataframe\">\n",
       "  <thead>\n",
       "    <tr style=\"text-align: right;\">\n",
       "      <th></th>\n",
       "      <th>comunicadosTO</th>\n",
       "      <th>ofertaTO_id</th>\n",
       "      <th>ofertaTO_nomeResponsavel</th>\n",
       "      <th>ofertaTO_dataInicio</th>\n",
       "      <th>ofertaTO_numeroEmissao</th>\n",
       "      <th>ofertaTO_volumeOferta</th>\n",
       "      <th>ofertaTO_situacaoEncerrada</th>\n",
       "      <th>ofertaTO_situacaoAndamento</th>\n",
       "      <th>ofertaTO_tipoComunicado</th>\n",
       "    </tr>\n",
       "  </thead>\n",
       "  <tbody>\n",
       "    <tr>\n",
       "      <th>0</th>\n",
       "      <td>[{'id': 38399, 'descricao': 'Formulário Inicia...</td>\n",
       "      <td>17760</td>\n",
       "      <td>TRAVESSIA SECURITIZADORA DE CRÉDITOS FINANCEIR...</td>\n",
       "      <td>2021-01-11T00:00:00Z</td>\n",
       "      <td>1</td>\n",
       "      <td>2.999.000,00</td>\n",
       "      <td>False</td>\n",
       "      <td>False</td>\n",
       "      <td>PARCIAL</td>\n",
       "    </tr>\n",
       "    <tr>\n",
       "      <th>1</th>\n",
       "      <td>[{'id': 38397, 'descricao': 'Formulário Inicia...</td>\n",
       "      <td>17758</td>\n",
       "      <td>TRAVESSIA SECURITIZADORA DE CRÉDITOS FINANCEIR...</td>\n",
       "      <td>2021-01-11T00:00:00Z</td>\n",
       "      <td>1</td>\n",
       "      <td>0,00</td>\n",
       "      <td>False</td>\n",
       "      <td>False</td>\n",
       "      <td>PARCIAL</td>\n",
       "    </tr>\n",
       "    <tr>\n",
       "      <th>2</th>\n",
       "      <td>[{'id': 38398, 'descricao': 'Formulário Inicia...</td>\n",
       "      <td>17759</td>\n",
       "      <td>TRAVESSIA SECURITIZADORA DE CRÉDITOS FINANCEIR...</td>\n",
       "      <td>2021-01-11T00:00:00Z</td>\n",
       "      <td>1</td>\n",
       "      <td>0,00</td>\n",
       "      <td>False</td>\n",
       "      <td>False</td>\n",
       "      <td>PARCIAL</td>\n",
       "    </tr>\n",
       "    <tr>\n",
       "      <th>3</th>\n",
       "      <td>[{'id': 38521, 'descricao': 'Formulário Inicia...</td>\n",
       "      <td>17813</td>\n",
       "      <td>REVELO COMPANHIA SECURITIZADORA DE CREDITOS FI...</td>\n",
       "      <td>2021-01-18T00:00:00Z</td>\n",
       "      <td>1</td>\n",
       "      <td>0,00</td>\n",
       "      <td>False</td>\n",
       "      <td>False</td>\n",
       "      <td>INICIAL</td>\n",
       "    </tr>\n",
       "    <tr>\n",
       "      <th>4</th>\n",
       "      <td>[{'id': 38520, 'descricao': 'Formulário Inicia...</td>\n",
       "      <td>17812</td>\n",
       "      <td>REVELO COMPANHIA SECURITIZADORA DE CREDITOS FI...</td>\n",
       "      <td>2021-01-18T00:00:00Z</td>\n",
       "      <td>1</td>\n",
       "      <td>0,00</td>\n",
       "      <td>False</td>\n",
       "      <td>False</td>\n",
       "      <td>INICIAL</td>\n",
       "    </tr>\n",
       "  </tbody>\n",
       "</table>\n",
       "</div>"
      ],
      "text/plain": [
       "                                       comunicadosTO  ofertaTO_id  \\\n",
       "0  [{'id': 38399, 'descricao': 'Formulário Inicia...        17760   \n",
       "1  [{'id': 38397, 'descricao': 'Formulário Inicia...        17758   \n",
       "2  [{'id': 38398, 'descricao': 'Formulário Inicia...        17759   \n",
       "3  [{'id': 38521, 'descricao': 'Formulário Inicia...        17813   \n",
       "4  [{'id': 38520, 'descricao': 'Formulário Inicia...        17812   \n",
       "\n",
       "                            ofertaTO_nomeResponsavel   ofertaTO_dataInicio  \\\n",
       "0  TRAVESSIA SECURITIZADORA DE CRÉDITOS FINANCEIR...  2021-01-11T00:00:00Z   \n",
       "1  TRAVESSIA SECURITIZADORA DE CRÉDITOS FINANCEIR...  2021-01-11T00:00:00Z   \n",
       "2  TRAVESSIA SECURITIZADORA DE CRÉDITOS FINANCEIR...  2021-01-11T00:00:00Z   \n",
       "3  REVELO COMPANHIA SECURITIZADORA DE CREDITOS FI...  2021-01-18T00:00:00Z   \n",
       "4  REVELO COMPANHIA SECURITIZADORA DE CREDITOS FI...  2021-01-18T00:00:00Z   \n",
       "\n",
       "   ofertaTO_numeroEmissao ofertaTO_volumeOferta  ofertaTO_situacaoEncerrada  \\\n",
       "0                       1          2.999.000,00                       False   \n",
       "1                       1                  0,00                       False   \n",
       "2                       1                  0,00                       False   \n",
       "3                       1                  0,00                       False   \n",
       "4                       1                  0,00                       False   \n",
       "\n",
       "   ofertaTO_situacaoAndamento ofertaTO_tipoComunicado  \n",
       "0                       False                 PARCIAL  \n",
       "1                       False                 PARCIAL  \n",
       "2                       False                 PARCIAL  \n",
       "3                       False                 INICIAL  \n",
       "4                       False                 INICIAL  "
      ]
     },
     "execution_count": 5,
     "metadata": {},
     "output_type": "execute_result"
    }
   ],
   "source": [
    "# processa o df\r\n",
    "list_of_dfs = []\r\n",
    "for i in range(len(df_inicial)):\r\n",
    "\tlist_of_dfs.append(pd.json_normalize(df_inicial['ofertasComunicadosTO'][i], sep='_'))\r\n",
    " \r\n",
    "df_agregado = pd.concat(list_of_dfs, join='inner')\r\n",
    "df_agregado.head(5)"
   ]
  },
  {
   "cell_type": "markdown",
   "metadata": {},
   "source": [
    "## Agora precisamos de uma forma de fazer as requests a partir do id da tabela anterior, uma request por id (ou seja, uma por linha). Depois é só fazer um join"
   ]
  },
  {
   "cell_type": "code",
   "execution_count": 6,
   "metadata": {},
   "outputs": [],
   "source": [
    "lista_ids = list(df_agregado['ofertaTO_id'])\r\n"
   ]
  },
  {
   "cell_type": "code",
   "execution_count": 7,
   "metadata": {},
   "outputs": [],
   "source": [
    "list_of_dfs = []\r\n",
    "for id_oferta in lista_ids:\r\n",
    "    # tá lento (30s), podemos paralelizar essa request para acelerar\r\n",
    "    url = \"http://web.cvm.gov.br/app/esforcosrestritos/enviarFormularioParcial/getOfertaPorId/\" + str(id_oferta)\r\n",
    "    response = requests.get(url=url,\r\n",
    "                             headers=headers)\r\n",
    "    \r\n",
    "    dict_response_2 = json.loads(response.content)\r\n",
    "    \r\n",
    "    list_of_dfs.append(pd.json_normalize(dict_response_2, sep='_'))    \r\n",
    "     "
   ]
  },
  {
   "cell_type": "code",
   "execution_count": 8,
   "metadata": {},
   "outputs": [],
   "source": [
    "df_agregado2 = pd.concat(list_of_dfs)"
   ]
  },
  {
   "cell_type": "markdown",
   "metadata": {},
   "source": [
    "# Juntamos as duas colunas para obter a tabela que queríamos"
   ]
  },
  {
   "cell_type": "code",
   "execution_count": 9,
   "metadata": {},
   "outputs": [],
   "source": [
    "df_agregado = df_agregado.reset_index(drop=True)\r\n",
    "df_agregado2 = df_agregado2.reset_index(drop=True)"
   ]
  },
  {
   "cell_type": "code",
   "execution_count": 10,
   "metadata": {},
   "outputs": [],
   "source": [
    "df_merged = df_agregado2.merge(df_agregado, right_on='ofertaTO_id', left_on=\"id\", validate=\"one_to_one\")"
   ]
  },
  {
   "cell_type": "code",
   "execution_count": 11,
   "metadata": {},
   "outputs": [],
   "source": [
    "# ainda precisamos pegar o nome do lider via outra request\r\n",
    "list_of_cnpjs = list(df_agregado2['lider_nrPfPj'])\r\n",
    "list_of_responses = []\r\n",
    "for cnpj in list_of_cnpjs:\r\n",
    "    payload = {\"cnpj\": cnpj}\r\n",
    "    url = \"http://web.cvm.gov.br/app/esforcosrestritos/responsavel/getNomeResponsavelPorCnpj\"\r\n",
    "    response = requests.post(url=url,\r\n",
    "                            json=payload,\r\n",
    "                            headers=headers)\r\n",
    "    dict_response = {\"lider_nome\": json.loads(response.content).strip(), \"lider_nrPfPj\": cnpj}\r\n",
    "    list_of_responses.append(dict_response)"
   ]
  },
  {
   "cell_type": "code",
   "execution_count": 12,
   "metadata": {},
   "outputs": [],
   "source": [
    "nomes_lideres = pd.DataFrame.from_dict(list_of_responses).drop_duplicates()"
   ]
  },
  {
   "cell_type": "code",
   "execution_count": 13,
   "metadata": {},
   "outputs": [],
   "source": [
    "df_final = df_merged.merge(nomes_lideres, left_on=\"lider_nrPfPj\", right_on=\"lider_nrPfPj\", how='inner')"
   ]
  },
  {
   "cell_type": "code",
   "execution_count": 14,
   "metadata": {},
   "outputs": [],
   "source": [
    "df_final"
   ]
  }
 ],
 "metadata": {
  "interpreter": {
   "hash": "b26b816b46fa41c744f8d854f235666a2947db7564293d95b5d878fcc3ab0b5a"
  },
  "kernelspec": {
   "display_name": "Python 3.8.3 64-bit ('Python38')",
   "name": "python3"
  },
  "language_info": {
   "codemirror_mode": {
    "name": "ipython",
    "version": 3
   },
   "file_extension": ".py",
   "mimetype": "text/x-python",
   "name": "python",
   "nbconvert_exporter": "python",
   "pygments_lexer": "ipython3",
   "version": "3.8.3"
  },
  "orig_nbformat": 4
 },
 "nbformat": 4,
 "nbformat_minor": 2
}